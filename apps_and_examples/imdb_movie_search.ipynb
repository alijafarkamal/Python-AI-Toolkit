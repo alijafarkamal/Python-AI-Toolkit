{
 "cells": [
  {
   "cell_type": "code",
   "execution_count": 1,
   "metadata": {},
   "outputs": [
    {
     "ename": "ModuleNotFoundError",
     "evalue": "No module named 'imdb'",
     "output_type": "error",
     "traceback": [
      "\u001b[0;31m---------------------------------------------------------------------------\u001b[0m",
      "\u001b[0;31mModuleNotFoundError\u001b[0m                       Traceback (most recent call last)",
      "Cell \u001b[0;32mIn[1], line 1\u001b[0m\n\u001b[0;32m----> 1\u001b[0m \u001b[38;5;28;01mimport\u001b[39;00m\u001b[38;5;250m \u001b[39m\u001b[38;5;21;01mimdb\u001b[39;00m\n\u001b[1;32m      3\u001b[0m ia \u001b[38;5;241m=\u001b[39m imdb\u001b[38;5;241m.\u001b[39mCinemagoer()\n\u001b[1;32m      5\u001b[0m Movie \u001b[38;5;241m=\u001b[39m \u001b[38;5;28minput\u001b[39m(\u001b[38;5;124m\"\u001b[39m\u001b[38;5;124mEnter a movie name: \u001b[39m\u001b[38;5;124m\"\u001b[39m)\n",
      "\u001b[0;31mModuleNotFoundError\u001b[0m: No module named 'imdb'"
     ]
    }
   ],
   "source": [
    "import imdb\n",
    "\n",
    "ia = imdb.Cinemagoer()\n",
    "\n",
    "Movie = input(\"Enter a movie name: \")\n",
    "items = ia.search_movie(Movie)\n",
    "print(\"\\nSearch results:\")\n",
    "for index, movie in enumerate(items):\n",
    "    print(f\"{index + 1}: {movie['title']} ({movie['year']})\")\n",
    "\n",
    "movie_index = int(input(\"\\nEnter the number of the movie you want to get info for: \")) - 1\n",
    "movie_id = items[movie_index].movieID\n",
    "movie_info = ia.get_movie(movie_id)\n",
    "\n",
    "print(\"\\nMovie Information:\")\n",
    "print(f\"Title: {movie_info.get('title')}\")\n",
    "print(f\"Year: {movie_info.get('year')}\")\n",
    "print(f\"Rating: {movie_info.get('rating')}\")\n",
    "print(f\"Genres: {', '.join(movie_info.get('genres', []))}\")\n",
    "print(f\"Directors: {', '.join(str(d) for d in movie_info.get('directors', []))}\")\n",
    "print(f\"Cast: {', '.join(str(c) for c in movie_info.get('cast', [])[:5])}...\")\n",
    "print(f\"Plot: {movie_info.get('plot outline')}\")\n",
    "print(f\"Runtime: {movie_info.get('runtimes', ['N/A'])[0]} minutes\")\n",
    "print(f\"Countries: {', '.join(movie_info.get('countries', []))}\")\n",
    "print(f\"Languages: {', '.join(movie_info.get('languages', []))}\")\n"
   ]
  }
 ],
 "metadata": {
  "kernelspec": {
   "display_name": "usr",
   "language": "python",
   "name": "python3"
  },
  "language_info": {
   "codemirror_mode": {
    "name": "ipython",
    "version": 3
   },
   "file_extension": ".py",
   "mimetype": "text/x-python",
   "name": "python",
   "nbconvert_exporter": "python",
   "pygments_lexer": "ipython3",
   "version": "3.12.3"
  }
 },
 "nbformat": 4,
 "nbformat_minor": 2
}
